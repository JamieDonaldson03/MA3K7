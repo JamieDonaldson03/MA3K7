{
 "cells": [
  {
   "cell_type": "code",
   "execution_count": 178,
   "id": "bac37681-2a9a-4ffb-8b27-be1417fbb0b1",
   "metadata": {},
   "outputs": [],
   "source": [
    "import numpy as np\n",
    "import matplotlib.pyplot as plt\n",
    "import scipy.linalg as LA"
   ]
  },
  {
   "cell_type": "code",
   "execution_count": 613,
   "id": "07f83ed8-ec66-4976-89f8-2984ddd37fcd",
   "metadata": {
    "editable": true,
    "slideshow": {
     "slide_type": ""
    },
    "tags": []
   },
   "outputs": [
    {
     "name": "stdin",
     "output_type": "stream",
     "text": [
      "Select the x coordinate to replace 0\n",
      "Select the y coordinate to replace 0\n"
     ]
    },
    {
     "name": "stdout",
     "output_type": "stream",
     "text": [
      "The updated matrix is\n",
      "[[ 0. -1. -1.]\n",
      " [-1. -1. -1.]\n",
      " [-1. -1. -1.]]\n",
      "The updated matrix is\n",
      "[[ 0. -1. -1.]\n",
      " [-1. -1. -1.]\n",
      " [-1.  1. -1.]]\n"
     ]
    },
    {
     "name": "stdin",
     "output_type": "stream",
     "text": [
      "Select the x coordinate to replace 0\n",
      "Select the y coordinate to replace 1\n"
     ]
    },
    {
     "name": "stdout",
     "output_type": "stream",
     "text": [
      "The updated matrix is\n",
      "[[ 0. -1. -1.]\n",
      " [ 0. -1. -1.]\n",
      " [-1.  1. -1.]]\n",
      "The updated matrix is\n",
      "[[ 0.  1. -1.]\n",
      " [ 0. -1. -1.]\n",
      " [-1.  1. -1.]]\n"
     ]
    },
    {
     "name": "stdin",
     "output_type": "stream",
     "text": [
      "Select the x coordinate to replace 0\n",
      "Select the y coordinate to replace 2\n"
     ]
    },
    {
     "name": "stdout",
     "output_type": "stream",
     "text": [
      "The updated matrix is\n",
      "[[ 0.  1. -1.]\n",
      " [ 0. -1. -1.]\n",
      " [ 0.  1. -1.]]\n",
      "The updated matrix is\n",
      "[[ 0.  1. -1.]\n",
      " [ 0. -1.  1.]\n",
      " [ 0.  1. -1.]]\n"
     ]
    },
    {
     "name": "stdin",
     "output_type": "stream",
     "text": [
      "Select the x coordinate to replace 1\n",
      "Select the y coordinate to replace 1\n"
     ]
    },
    {
     "name": "stdout",
     "output_type": "stream",
     "text": [
      "The updated matrix is\n",
      "[[ 0.  1. -1.]\n",
      " [ 0.  0.  1.]\n",
      " [ 0.  1. -1.]]\n",
      "The updated matrix is\n",
      "[[ 0.  1. -1.]\n",
      " [ 0.  0.  1.]\n",
      " [ 0.  1.  1.]]\n"
     ]
    },
    {
     "name": "stdin",
     "output_type": "stream",
     "text": [
      "Select the x coordinate to replace 2\n",
      "Select the y coordinate to replace 0\n"
     ]
    },
    {
     "name": "stdout",
     "output_type": "stream",
     "text": [
      "The updated matrix is\n",
      "[[0. 1. 0.]\n",
      " [0. 0. 1.]\n",
      " [0. 1. 1.]]\n",
      "YOU WIN!\n"
     ]
    }
   ],
   "source": [
    "size = 3\n",
    "counter = 0\n",
    "viable = [(i,j) for i in range(size) for j in range(size)]\n",
    "M = np.zeros(size ** 2).reshape(size, size) - 1\n",
    "HUMAN = 0\n",
    "BOT = 1\n",
    "\n",
    "def pic(M):\n",
    "    print('The updated matrix is')\n",
    "    print(M)\n",
    "\n",
    "def verify(x,y, player):\n",
    "    global M\n",
    "    global viable\n",
    "    if (y,x) in viable:\n",
    "        return x,y\n",
    "    else:\n",
    "        if player == HUMAN:\n",
    "            x = int(input('Select another x coordinate'))\n",
    "            y = int(input('Select another y coordinate'))\n",
    "            return verify(x,y,player)\n",
    "        elif player == BOT:\n",
    "            xcell = np.random.randint(0, len(viable))\n",
    "            ycell = np.random.randint(0, len(viable))\n",
    "            return verify(x,y,player)\n",
    "\n",
    "\n",
    "def game(player):\n",
    "    global size\n",
    "    global counter\n",
    "    if player == HUMAN:\n",
    "        xcell = int(input('Select the x coordinate to replace'))\n",
    "        ycell = int(input('Select the y coordinate to replace'))\n",
    "        xcell, ycell = verify(xcell, ycell, player)\n",
    "        M[ycell][xcell] = 0\n",
    "        counter += 1\n",
    "        viable.remove((ycell,xcell))\n",
    "        pic(M)\n",
    "        #print(counter)\n",
    "        if counter == size **2:\n",
    "            det = np.linalg.det(M)\n",
    "            if det == 0:\n",
    "                print('YOU WIN!')\n",
    "            else:\n",
    "                print('YOU LOSE!')\n",
    "        else:\n",
    "            game(BOT)\n",
    "    if player == BOT:\n",
    "        #xcell = np.random.randint(0, len(viable))\n",
    "        #ycell = np.random.randint(0, len(viable))\n",
    "        #xcell, ycell = verify(xcell, ycell, player)\n",
    "        cell = viable[np.random.randint(0, len(viable))]\n",
    "        xcell = cell[1]\n",
    "        ycell = cell[0]\n",
    "        M[ycell][xcell] = 1\n",
    "        counter += 1\n",
    "        viable.remove((ycell,xcell))\n",
    "        pic(M)\n",
    "        #print(counter)\n",
    "        if counter == size **2:\n",
    "            det = np.linalg.det(M)\n",
    "            if det == 0:\n",
    "                print('YOU WIN!')\n",
    "            else:\n",
    "                print('YOU LOSE!')\n",
    "        else:\n",
    "            game(HUMAN)\n",
    "    \n",
    "    \n",
    "game(HUMAN)"
   ]
  },
  {
   "cell_type": "code",
   "execution_count": 316,
   "id": "da39214c-6e11-4b8e-8b76-6d2a0d0d7377",
   "metadata": {
    "jupyter": {
     "source_hidden": true
    }
   },
   "outputs": [
    {
     "name": "stdout",
     "output_type": "stream",
     "text": [
      "YOU WIN!\n"
     ]
    }
   ],
   "source": [
    "size = 4\n",
    "counter = 0\n",
    "wins = 0\n",
    "losses = 0\n",
    "viable = [(i,j) for i in range(size) for j in range(size)]\n",
    "M = np.zeros(size ** 2).reshape(size, size) - 1\n",
    "#M = [['.' for n in range(size)] for n in range(size)].reshape(size, size)\n",
    "HUMAN = 0\n",
    "BOT = 1\n",
    "\n",
    "def pic(M):\n",
    "    print('The updated matrix is')\n",
    "    print(M)\n",
    "\n",
    "def verify(x,y, player):\n",
    "    global M\n",
    "    global viable\n",
    "    if (y,x) in viable:\n",
    "        return x,y\n",
    "    else:\n",
    "        if player == HUMAN:\n",
    "            x = int(input('Select another x coordinate'))\n",
    "            y = int(input('Select another y coordinate'))\n",
    "            return verify(x,y,player)\n",
    "        elif player == BOT:\n",
    "            xcell = np.random.randint(0, len(viable))\n",
    "            ycell = np.random.randint(0, len(viable))\n",
    "            return verify(x,y,player)\n",
    "            \n",
    "            \n",
    "\n",
    "def coloured(n):\n",
    "    if n == 1:\n",
    "        return f'{RED}{n}'\n",
    "    elif n == 0:\n",
    "        return f'{BLUE}{n}'\n",
    "    elif n == -1:\n",
    "        return f'{WHITE}{n}'\n",
    "    else:\n",
    "        pass\n",
    "\n",
    "\n",
    "def game(player):\n",
    "    global size\n",
    "    global counter\n",
    "    global wins\n",
    "    global losses\n",
    "    if player == HUMAN:\n",
    "        cell = viable[np.random.randint(0, len(viable))]\n",
    "        xcell = cell[1]\n",
    "        ycell = cell[0]\n",
    "        M[ycell][xcell] = 0\n",
    "        counter += 1\n",
    "        viable.remove((ycell,xcell))\n",
    "        #pic(M)\n",
    "        #print(counter)\n",
    "        if counter == size **2:\n",
    "            det = np.linalg.det(M)\n",
    "            if det == 0:\n",
    "                print('YOU WIN!')\n",
    "            else:\n",
    "                print('YOU LOSE!')\n",
    "        else:\n",
    "            game(BOT)\n",
    "    if player == BOT:\n",
    "        #xcell = np.random.randint(0, len(viable))\n",
    "        #ycell = np.random.randint(0, len(viable))\n",
    "        #xcell, ycell = verify(xcell, ycell, player)\n",
    "        cell = viable[np.random.randint(0, len(viable))]\n",
    "        xcell = cell[1]\n",
    "        ycell = cell[0]\n",
    "        M[ycell][xcell] = 1\n",
    "        counter += 1\n",
    "        viable.remove((ycell,xcell))\n",
    "        #pic(M)\n",
    "        #print(counter)\n",
    "        if counter == size **2:\n",
    "            det = np.linalg.det(M)\n",
    "            if det == 0:\n",
    "                print('YOU WIN!')\n",
    "            else:\n",
    "                print('YOU LOSE!')\n",
    "        else:\n",
    "            game(HUMAN)\n",
    "    \n",
    "game(BOT)"
   ]
  },
  {
   "cell_type": "code",
   "execution_count": 400,
   "id": "0435c414-8923-4f32-a9bc-7a9651f9f50f",
   "metadata": {
    "jupyter": {
     "source_hidden": true
    }
   },
   "outputs": [
    {
     "name": "stdout",
     "output_type": "stream",
     "text": [
      "[1.0, 0.6732, 0.7064, 0.5846, 0.6023, 0.5395, 0.4953, 0.4073, 0.3196, 0.2371, 0.1549, 0.0902, 0.0487, 0.021]\n"
     ]
    }
   ],
   "source": [
    "record1 = []\n",
    "for s in range(1,15):\n",
    "    wins = 0\n",
    "    losses = 0\n",
    "    \n",
    "    for i in range(10000):\n",
    "        size = s\n",
    "        counter = 0\n",
    "        \n",
    "        viable = [(i,j) for i in range(size) for j in range(size)]\n",
    "        M = np.zeros(size ** 2).reshape(size, size) - 1\n",
    "        #M = [['.' for n in range(size)] for n in range(size)].reshape(size, size)\n",
    "        HUMAN = 0\n",
    "        BOT = 1\n",
    "        \n",
    "        def pic(M):\n",
    "            print('The updated matrix is')\n",
    "            print(M)\n",
    "        \n",
    "        def verify(x,y, player):\n",
    "            global M\n",
    "            global viable\n",
    "            if (y,x) in viable:\n",
    "                return x,y\n",
    "            else:\n",
    "                if player == HUMAN:\n",
    "                    x = int(input('Select another x coordinate'))\n",
    "                    y = int(input('Select another y coordinate'))\n",
    "                    return verify(x,y,player)\n",
    "                elif player == BOT:\n",
    "                    xcell = np.random.randint(0, len(viable))\n",
    "                    ycell = np.random.randint(0, len(viable))\n",
    "                    return verify(x,y,player)\n",
    "                    \n",
    "                    \n",
    "        \n",
    "        def coloured(n):\n",
    "            if n == 1:\n",
    "                return f'{RED}{n}'\n",
    "            elif n == 0:\n",
    "                return f'{BLUE}{n}'\n",
    "            elif n == -1:\n",
    "                return f'{WHITE}{n}'\n",
    "            else:\n",
    "                pass\n",
    "        \n",
    "        \n",
    "        def game(player):\n",
    "            global size\n",
    "            global counter\n",
    "            global wins\n",
    "            global losses\n",
    "            if player == HUMAN:\n",
    "                cell = viable[np.random.randint(0, len(viable))]\n",
    "                xcell = cell[1]\n",
    "                ycell = cell[0]\n",
    "                M[ycell][xcell] = 0\n",
    "                counter += 1\n",
    "                viable.remove((ycell,xcell))\n",
    "                #pic(M)\n",
    "                #print(counter)\n",
    "                if counter == size **2:\n",
    "                    det = np.linalg.det(M)\n",
    "                    if det == 0:\n",
    "                        wins += 1\n",
    "                    else:\n",
    "                        losses += 1\n",
    "                else:\n",
    "                    game(BOT)\n",
    "            if player == BOT:\n",
    "                #xcell = np.random.randint(0, len(viable))\n",
    "                #ycell = np.random.randint(0, len(viable))\n",
    "                #xcell, ycell = verify(xcell, ycell, player)\n",
    "                cell = viable[np.random.randint(0, len(viable))]\n",
    "                xcell = cell[1]\n",
    "                ycell = cell[0]\n",
    "                M[ycell][xcell] = 1\n",
    "                counter += 1\n",
    "                viable.remove((ycell,xcell))\n",
    "                #pic(M)\n",
    "                #print(counter)\n",
    "                if counter == size **2:\n",
    "                    det = np.linalg.det(M)\n",
    "                    if det == 0:\n",
    "                        wins += 1\n",
    "                    else:\n",
    "                        losses += 1\n",
    "                else:\n",
    "                    game(HUMAN)\n",
    "            \n",
    "        game(HUMAN)\n",
    "    \n",
    "    \n",
    "    #print(f'wins:{wins}, losses:{losses}')\n",
    "    record1 += [wins/10000]\n",
    "\n",
    "print(record1)"
   ]
  },
  {
   "cell_type": "code",
   "execution_count": 402,
   "id": "d3cb7f22-682c-438b-be09-15e21b46f14f",
   "metadata": {
    "jupyter": {
     "source_hidden": true
    }
   },
   "outputs": [
    {
     "name": "stdout",
     "output_type": "stream",
     "text": [
      "[0.0, 0.659, 0.4257, 0.5823, 0.5557, 0.5385, 0.4675, 0.4131, 0.3199, 0.2308, 0.1554, 0.0908, 0.0434, 0.0214]\n"
     ]
    }
   ],
   "source": [
    "record2 = []\n",
    "for s in range(1,15):\n",
    "    wins = 0\n",
    "    losses = 0\n",
    "    \n",
    "    for i in range(10000):\n",
    "        size = s\n",
    "        counter = 0\n",
    "        \n",
    "        viable = [(i,j) for i in range(size) for j in range(size)]\n",
    "        M = np.zeros(size ** 2).reshape(size, size) - 1\n",
    "        #M = [['.' for n in range(size)] for n in range(size)].reshape(size, size)\n",
    "        HUMAN = 0\n",
    "        BOT = 1\n",
    "        \n",
    "        def pic(M):\n",
    "            print('The updated matrix is')\n",
    "            print(M)\n",
    "        \n",
    "        def verify(x,y, player):\n",
    "            global M\n",
    "            global viable\n",
    "            if (y,x) in viable:\n",
    "                return x,y\n",
    "            else:\n",
    "                if player == HUMAN:\n",
    "                    x = int(input('Select another x coordinate'))\n",
    "                    y = int(input('Select another y coordinate'))\n",
    "                    return verify(x,y,player)\n",
    "                elif player == BOT:\n",
    "                    xcell = np.random.randint(0, len(viable))\n",
    "                    ycell = np.random.randint(0, len(viable))\n",
    "                    return verify(x,y,player)\n",
    "                    \n",
    "                    \n",
    "        \n",
    "        def coloured(n):\n",
    "            if n == 1:\n",
    "                return f'{RED}{n}'\n",
    "            elif n == 0:\n",
    "                return f'{BLUE}{n}'\n",
    "            elif n == -1:\n",
    "                return f'{WHITE}{n}'\n",
    "            else:\n",
    "                pass\n",
    "        \n",
    "        \n",
    "        def game(player):\n",
    "            global size\n",
    "            global counter\n",
    "            global wins\n",
    "            global losses\n",
    "            if player == HUMAN:\n",
    "                cell = viable[np.random.randint(0, len(viable))]\n",
    "                xcell = cell[1]\n",
    "                ycell = cell[0]\n",
    "                M[ycell][xcell] = 0\n",
    "                counter += 1\n",
    "                viable.remove((ycell,xcell))\n",
    "                #pic(M)\n",
    "                #print(counter)\n",
    "                if counter == size **2:\n",
    "                    det = np.linalg.det(M)\n",
    "                    if det == 0:\n",
    "                        wins += 1\n",
    "                    else:\n",
    "                        losses += 1\n",
    "                else:\n",
    "                    game(BOT)\n",
    "            if player == BOT:\n",
    "                #xcell = np.random.randint(0, len(viable))\n",
    "                #ycell = np.random.randint(0, len(viable))\n",
    "                #xcell, ycell = verify(xcell, ycell, player)\n",
    "                cell = viable[np.random.randint(0, len(viable))]\n",
    "                xcell = cell[1]\n",
    "                ycell = cell[0]\n",
    "                M[ycell][xcell] = 1\n",
    "                counter += 1\n",
    "                viable.remove((ycell,xcell))\n",
    "                #pic(M)\n",
    "                #print(counter)\n",
    "                if counter == size **2:\n",
    "                    det = np.linalg.det(M)\n",
    "                    if det == 0:\n",
    "                        wins += 1\n",
    "                    else:\n",
    "                        losses += 1\n",
    "                else:\n",
    "                    game(HUMAN)\n",
    "            \n",
    "        game(BOT)\n",
    "    \n",
    "    \n",
    "    #print(f'wins:{wins}, losses:{losses}')\n",
    "    record2 += [wins/10000]\n",
    "\n",
    "print(record2)"
   ]
  },
  {
   "cell_type": "code",
   "execution_count": 414,
   "id": "f958c190-f17f-46e6-9779-f66a6af93f18",
   "metadata": {},
   "outputs": [
    {
     "data": {
      "image/png": "[encoded data removed]",
      "text/plain": [
       "<Figure size 640x480 with 1 Axes>"
      ]
     },
     "metadata": {},
     "output_type": "display_data"
    }
   ],
   "source": [
    "plt.plot([n+1 for n in range(len(record2))], record2, label = 'Going Second')\n",
    "plt.plot([n+1 for n in range(len(record1))], record1, label = 'Going First')\n",
    "plt.legend()\n",
    "plt.grid()\n",
    "plt.title( 'Win Probabilities')\n",
    "plt.xlabel('Dimension of Matrix')\n",
    "plt.ylabel('Probability of Winning')\n",
    "plt.show()"
   ]
  },
  {
   "cell_type": "code",
   "execution_count": 593,
   "id": "753da919-f290-4e8e-8609-9cfe6b3d6ccd",
   "metadata": {},
   "outputs": [],
   "source": [
    "def hyperdet(A):\n",
    "    a = ((A[0][0][0]**2) * (A[1][1][1]**2)) + ((A[0][0][1]**2) * (A[1][1][0]**2)) + A[0][1][0]**2 * A[1][0][1]**2 + A[1][0][0]**2 * A[0][1][1]**2\n",
    "    b = -2*A[0][0][0]*A[1][1][0]*A[1][1][1] - 2*A[0][0][0]*A[0][1][0]*A[1][0][1]*A[1][1][1] - 2*A[0][0][0]*A[0][1][1]*A[1][0][0]*A[1][1][1]\n",
    "    c = -2*A[0][0][1]*A[0][1][0]*A[0][0][0]*A[1][0][1]*A[1][1][0] -2*A[0][0][1]*A[0][1][1]*A[1][1][0]*A[1][0][0] - 2*A[0][1][0]*A[0][1][1]*A[1][0][1]*A[1][0][0]\n",
    "    d = 4*A[0][0][0]*A[0][1][1]*A[1][0][1]*A[1][1][0]+4*A[0][0][1]*A[0][1][0]*A[1][0][0]*A[1][1][1]\n",
    "\n",
    "    return a+b+c+d"
   ]
  },
  {
   "cell_type": "code",
   "execution_count": 595,
   "id": "9fb9e837-2e76-494e-8263-02a6a8048153",
   "metadata": {},
   "outputs": [
    {
     "data": {
      "text/plain": [
       "0"
      ]
     },
     "execution_count": 595,
     "metadata": {},
     "output_type": "execute_result"
    }
   ],
   "source": [
    "A = [[[0,0], \n",
    "      [0,0]],\n",
    "     \n",
    "     [[1,1],\n",
    "      [1,1]]]\n",
    "hyperdet(A)"
   ]
  },
  {
   "cell_type": "code",
   "execution_count": 597,
   "id": "7c4c6d57-37d1-4edb-8fb3-1717e8ea0d81",
   "metadata": {},
   "outputs": [
    {
     "data": {
      "text/plain": [
       "0"
      ]
     },
     "execution_count": 597,
     "metadata": {},
     "output_type": "execute_result"
    }
   ],
   "source": [
    "A = [[[1,1],\n",
    "      [1,1]],\n",
    "     \n",
    "     [[0,0],\n",
    "      [0,0]]]\n",
    "hyperdet(A)"
   ]
  },
  {
   "cell_type": "code",
   "execution_count": 599,
   "id": "e0816caf-b690-48e0-8428-1fb220d43933",
   "metadata": {},
   "outputs": [
    {
     "name": "stdout",
     "output_type": "stream",
     "text": [
      "[[[1. 0.]\n",
      "  [0. 0.]]\n",
      "\n",
      " [[1. 1.]\n",
      "  [0. 1.]]]\n",
      "The hyperdeterminant of H is 1.0\n"
     ]
    }
   ],
   "source": [
    "viable = [(i,j, k) for i in range(2) for j in range(2) for k in range(2)]\n",
    "H = np.zeros(8).reshape(2, 2, 2)\n",
    "\n",
    "for i in range(4):\n",
    "    cell = viable[np.random.randint(0, len(viable))]\n",
    "    xcell = cell[0]\n",
    "    ycell = cell[1]\n",
    "    zcell = cell[2]\n",
    "    H[zcell][ycell][xcell] = 1\n",
    "    viable.remove((xcell,ycell,zcell))\n",
    "\n",
    "print(H)\n",
    "print(f'The hyperdeterminant of H is {hyperdet(H)}')"
   ]
  },
  {
   "cell_type": "code",
   "execution_count": 601,
   "id": "637c354d-c936-4009-a160-09229c36ebf3",
   "metadata": {},
   "outputs": [],
   "source": [
    "Dets = []\n",
    "for j in range(100000):\n",
    "    viable = [(i,j, k) for i in range(2) for j in range(2) for k in range(2)]\n",
    "    H = np.zeros(8).reshape(2, 2, 2)\n",
    "    for i in range(4):\n",
    "        cell = viable[np.random.randint(0, len(viable))]\n",
    "        xcell = cell[0]\n",
    "        ycell = cell[1]\n",
    "        zcell = cell[2]\n",
    "        H[xcell][ycell][zcell] = 1\n",
    "        viable.remove((xcell,ycell,zcell))\n",
    "    Dets += [hyperdet(H)]\n",
    "       "
   ]
  },
  {
   "cell_type": "code",
   "execution_count": 603,
   "id": "284a9505-98cb-4595-ad99-5f53d2ca0b35",
   "metadata": {},
   "outputs": [
    {
     "data": {
      "image/png": "[encoded data removed]",
      "text/plain": [
       "<Figure size 640x480 with 1 Axes>"
      ]
     },
     "metadata": {},
     "output_type": "display_data"
    }
   ],
   "source": [
    "bins = [-2,-1,0,1,2,3,4,5,6]\n",
    "plt.hist(Dets, bins = bins, density = True)\n",
    "plt.grid()\n",
    "plt.xlabel('Hyperdeterminant')\n",
    "plt.ylabel('Probability')\n",
    "plt.show()"
   ]
  },
  {
   "cell_type": "code",
   "execution_count": null,
   "id": "70d6123b-0cf8-4a36-b65e-89d4909b9187",
   "metadata": {},
   "outputs": [],
   "source": []
  }
 ],
 "metadata": {
  "kernelspec": {
   "display_name": "Python 3 (ipykernel)",
   "language": "python",
   "name": "python3"
  },
  "language_info": {
   "codemirror_mode": {
    "name": "ipython",
    "version": 3
   },
   "file_extension": ".py",
   "mimetype": "text/x-python",
   "name": "python",
   "nbconvert_exporter": "python",
   "pygments_lexer": "ipython3",
   "version": "3.12.7"
  }
 },
 "nbformat": 4,
 "nbformat_minor": 5
}
